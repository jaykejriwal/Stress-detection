{
 "cells": [
  {
   "cell_type": "code",
   "execution_count": null,
   "id": "93ab78df",
   "metadata": {},
   "outputs": [],
   "source": [
    "!pip install kaldiio"
   ]
  },
  {
   "cell_type": "code",
   "execution_count": null,
   "id": "95937e53",
   "metadata": {},
   "outputs": [],
   "source": [
    "!pip install keras-tuner"
   ]
  },
  {
   "cell_type": "code",
   "execution_count": null,
   "id": "340e7fdc",
   "metadata": {},
   "outputs": [],
   "source": [
    "import kaldiio\n",
    "import pandas as pd\n",
    "\n",
    "temp = []\n",
    "temp1 = []\n",
    "dictlist = []\n",
    "dictlist1 = []\n",
    "d = kaldiio.load_ark('StressDat_trillv3.ark')  # d is a generator object\n",
    "for key, numpy_array in d:\n",
    "    temp = key\n",
    "    temp1 = numpy_array\n",
    "    dictlist.append(temp)\n",
    "    dictlist1.append(temp1)\n",
    "df = pd.DataFrame(list(zip(dictlist, dictlist1)),\n",
    "               columns =['FILE', 'features'])"
   ]
  },
  {
   "cell_type": "code",
   "execution_count": null,
   "id": "eb63d06b",
   "metadata": {},
   "outputs": [],
   "source": [
    "df"
   ]
  },
  {
   "cell_type": "code",
   "execution_count": null,
   "id": "c579f131",
   "metadata": {},
   "outputs": [],
   "source": [
    "import pandas as pd\n",
    "import os\n",
    "import librosa\n",
    "import numpy as np\n",
    "audio_dataset_path=r'C:\\Users\\Jay Kejriwal\\Desktop\\Jay\\StressDat'\n",
    "header_list = [\"FILE\", \"Annotators\", \"SCORE\"]\n",
    "metadata=pd.read_csv(r'C:\\Users\\Jay Kejriwal\\Desktop\\Jay\\StressDat\\StressDat-anotacia-29spk_v1_normalize_all_scores.txt',sep=\"\\t\",names=header_list)\n",
    "conditions = [\n",
    "    (metadata['SCORE'] <= 20),\n",
    "    (metadata['SCORE'] > 20) & (metadata['SCORE'] <= 40),\n",
    "    (metadata['SCORE'] > 40)\n",
    "    ]\n",
    "\n",
    "# create a list of the values we want to assign for each condition\n",
    "values = ['low', 'med', 'high']\n",
    "\n",
    "# create a new column and use np.select to assign values to it using our lists as arguments\n",
    "metadata['SCALE'] = np.select(conditions, values)\n",
    "# display updated DataFrame\n",
    "metadata.head()"
   ]
  },
  {
   "cell_type": "code",
   "execution_count": null,
   "id": "48f7fb9e",
   "metadata": {},
   "outputs": [],
   "source": [
    "metadata=pd.read_csv(r'C:\\Users\\Jay Kejriwal\\Desktop\\Jay\\StressDat\\modified.csv',sep=\"\\t\")\n",
    "\n",
    "metadata.rename(columns={'V1': 'FILE', 'V2': 'Annotators', 'V3': 'SCORE'}, inplace=True)\n",
    "# display updated DataFrame\n",
    "metadata.head()"
   ]
  },
  {
   "cell_type": "code",
   "execution_count": null,
   "id": "2a0af94b",
   "metadata": {},
   "outputs": [],
   "source": [
    "import pandas as pd\n",
    "X1= pd.merge(metadata, df, on='FILE', how='inner')"
   ]
  },
  {
   "cell_type": "code",
   "execution_count": null,
   "id": "0f66dd05",
   "metadata": {},
   "outputs": [],
   "source": [
    "X1"
   ]
  },
  {
   "cell_type": "code",
   "execution_count": null,
   "id": "ff6d67c6",
   "metadata": {},
   "outputs": [],
   "source": [
    "extracted_features_df = X1[[\"SCALE\",\"features\"]]\n",
    "extracted_features_df.columns=['class_label','feature']\n",
    "extracted_features_df.to_pickle(\"newtrill_features512_1D.pkl\",protocol=4)"
   ]
  },
  {
   "cell_type": "code",
   "execution_count": null,
   "id": "a1c14226",
   "metadata": {},
   "outputs": [],
   "source": [
    "extracted_features_df\n",
    "extracted_features_df.to_pickle(\"trill_features51_1D.pkl\")\n"
   ]
  },
  {
   "cell_type": "code",
   "execution_count": 4,
   "id": "4bbb5ddd",
   "metadata": {},
   "outputs": [],
   "source": [
    "import pickle\n",
    "import pandas as pd\n",
    "extracted_features_df = pd.read_pickle(r\"C:\\Users\\Jay Kejriwal\\Desktop\\Jay\\Pickle\\newtrill_features512_1D.pkl\")"
   ]
  },
  {
   "cell_type": "code",
   "execution_count": 5,
   "id": "d504d873",
   "metadata": {},
   "outputs": [
    {
     "data": {
      "text/html": [
       "<div>\n",
       "<style scoped>\n",
       "    .dataframe tbody tr th:only-of-type {\n",
       "        vertical-align: middle;\n",
       "    }\n",
       "\n",
       "    .dataframe tbody tr th {\n",
       "        vertical-align: top;\n",
       "    }\n",
       "\n",
       "    .dataframe thead th {\n",
       "        text-align: right;\n",
       "    }\n",
       "</style>\n",
       "<table border=\"1\" class=\"dataframe\">\n",
       "  <thead>\n",
       "    <tr style=\"text-align: right;\">\n",
       "      <th></th>\n",
       "      <th>class_label</th>\n",
       "      <th>feature</th>\n",
       "    </tr>\n",
       "  </thead>\n",
       "  <tbody>\n",
       "    <tr>\n",
       "      <th>0</th>\n",
       "      <td>Medium</td>\n",
       "      <td>[0.0161692, 0.0390885, -0.0046351, -0.0020949,...</td>\n",
       "    </tr>\n",
       "    <tr>\n",
       "      <th>1</th>\n",
       "      <td>Medium</td>\n",
       "      <td>[0.0168201, -0.0282048, 0.039324, -0.0603364, ...</td>\n",
       "    </tr>\n",
       "    <tr>\n",
       "      <th>2</th>\n",
       "      <td>Medium</td>\n",
       "      <td>[-0.0064451, -0.0812835, -0.0166688, -0.015342...</td>\n",
       "    </tr>\n",
       "    <tr>\n",
       "      <th>3</th>\n",
       "      <td>High</td>\n",
       "      <td>[0.01027, 0.0524941, -0.0217838, 0.0042399, -0...</td>\n",
       "    </tr>\n",
       "    <tr>\n",
       "      <th>4</th>\n",
       "      <td>Medium</td>\n",
       "      <td>[-0.055569, 0.0133011, 0.034179, -0.0342438, -...</td>\n",
       "    </tr>\n",
       "    <tr>\n",
       "      <th>...</th>\n",
       "      <td>...</td>\n",
       "      <td>...</td>\n",
       "    </tr>\n",
       "    <tr>\n",
       "      <th>12784</th>\n",
       "      <td>Low</td>\n",
       "      <td>[-0.0468368, -0.0192087, -0.01929, -0.0296526,...</td>\n",
       "    </tr>\n",
       "    <tr>\n",
       "      <th>12785</th>\n",
       "      <td>Low</td>\n",
       "      <td>[-0.0222033, -0.0192389, 0.0137476, 0.0044978,...</td>\n",
       "    </tr>\n",
       "    <tr>\n",
       "      <th>12786</th>\n",
       "      <td>Medium</td>\n",
       "      <td>[0.0566024, -0.0882919, 0.0271667, -0.0018073,...</td>\n",
       "    </tr>\n",
       "    <tr>\n",
       "      <th>12787</th>\n",
       "      <td>Low</td>\n",
       "      <td>[-0.0077951, -0.0332874, 0.0201664, 0.0020362,...</td>\n",
       "    </tr>\n",
       "    <tr>\n",
       "      <th>12788</th>\n",
       "      <td>High</td>\n",
       "      <td>[-0.0521281, -0.038472, -0.0078298, -0.030251,...</td>\n",
       "    </tr>\n",
       "  </tbody>\n",
       "</table>\n",
       "<p>12789 rows × 2 columns</p>\n",
       "</div>"
      ],
      "text/plain": [
       "      class_label                                            feature\n",
       "0          Medium  [0.0161692, 0.0390885, -0.0046351, -0.0020949,...\n",
       "1          Medium  [0.0168201, -0.0282048, 0.039324, -0.0603364, ...\n",
       "2          Medium  [-0.0064451, -0.0812835, -0.0166688, -0.015342...\n",
       "3            High  [0.01027, 0.0524941, -0.0217838, 0.0042399, -0...\n",
       "4          Medium  [-0.055569, 0.0133011, 0.034179, -0.0342438, -...\n",
       "...           ...                                                ...\n",
       "12784         Low  [-0.0468368, -0.0192087, -0.01929, -0.0296526,...\n",
       "12785         Low  [-0.0222033, -0.0192389, 0.0137476, 0.0044978,...\n",
       "12786      Medium  [0.0566024, -0.0882919, 0.0271667, -0.0018073,...\n",
       "12787         Low  [-0.0077951, -0.0332874, 0.0201664, 0.0020362,...\n",
       "12788        High  [-0.0521281, -0.038472, -0.0078298, -0.030251,...\n",
       "\n",
       "[12789 rows x 2 columns]"
      ]
     },
     "execution_count": 5,
     "metadata": {},
     "output_type": "execute_result"
    }
   ],
   "source": [
    "extracted_features_df"
   ]
  },
  {
   "cell_type": "code",
   "execution_count": null,
   "id": "be30dd8f",
   "metadata": {},
   "outputs": [],
   "source": [
    "import numpy as np\n",
    "### Split the dataset into independent and dependent dataset\n",
    "\n",
    "X=np.array(extracted_features_df['feature'].tolist())\n",
    "y=np.array(extracted_features_df['class_label'].tolist())"
   ]
  },
  {
   "cell_type": "code",
   "execution_count": null,
   "id": "293e8e52",
   "metadata": {},
   "outputs": [],
   "source": [
    "X.shape"
   ]
  },
  {
   "cell_type": "code",
   "execution_count": null,
   "id": "39bca221",
   "metadata": {},
   "outputs": [],
   "source": [
    "y.shape"
   ]
  },
  {
   "cell_type": "code",
   "execution_count": null,
   "id": "7280f105",
   "metadata": {},
   "outputs": [],
   "source": [
    "y"
   ]
  },
  {
   "cell_type": "code",
   "execution_count": null,
   "id": "faa86300",
   "metadata": {},
   "outputs": [],
   "source": [
    "from tensorflow.keras.utils import to_categorical\n",
    "from sklearn.preprocessing import LabelEncoder\n",
    "labelencoder=LabelEncoder()\n",
    "y=np.array(extracted_features_df['class'].tolist())\n",
    "y=to_categorical(labelencoder.fit_transform(y))"
   ]
  },
  {
   "cell_type": "code",
   "execution_count": null,
   "id": "6ffdd96f",
   "metadata": {},
   "outputs": [],
   "source": [
    "### Train Test Split\n",
    "from sklearn.model_selection import train_test_split\n",
    "X_train,X_test,y_train,y_test=train_test_split(X,y,test_size=0.2,random_state=27)"
   ]
  },
  {
   "cell_type": "code",
   "execution_count": null,
   "id": "9c2aa966",
   "metadata": {},
   "outputs": [],
   "source": [
    "import tensorflow as tf\n",
    "print(tf.__version__)"
   ]
  },
  {
   "cell_type": "code",
   "execution_count": null,
   "id": "a1f037b2",
   "metadata": {},
   "outputs": [],
   "source": [
    "import tensorflow as tf\n",
    "from tensorflow.keras.models import Sequential\n",
    "from tensorflow.keras.layers import Dense,Dropout,Activation,Flatten\n",
    "from tensorflow.keras.optimizers import Adam\n",
    "from sklearn import metrics"
   ]
  },
  {
   "cell_type": "code",
   "execution_count": null,
   "id": "e155e77f",
   "metadata": {},
   "outputs": [],
   "source": [
    "### No of classes\n",
    "num_labels=y.shape[1]"
   ]
  },
  {
   "cell_type": "code",
   "execution_count": null,
   "id": "10759145",
   "metadata": {},
   "outputs": [],
   "source": [
    "\n",
    "model=Sequential()\n",
    "###first layer\n",
    "model.add(Dense(100,input_shape=(512,)))\n",
    "model.add(Activation('relu'))\n",
    "model.add(Dropout(0.5))\n",
    "###second layer\n",
    "model.add(Dense(200))\n",
    "model.add(Activation('relu'))\n",
    "model.add(Dropout(0.5))\n",
    "###third layer\n",
    "model.add(Dense(100))\n",
    "model.add(Activation('relu'))\n",
    "model.add(Dropout(0.5))\n",
    "\n",
    "###final layer\n",
    "model.add(Dense(num_labels))\n",
    "model.add(Activation('softmax'))"
   ]
  },
  {
   "cell_type": "code",
   "execution_count": null,
   "id": "5b8cbc26",
   "metadata": {},
   "outputs": [],
   "source": [
    "model.compile(loss='categorical_crossentropy',metrics=['accuracy'],optimizer='adam')"
   ]
  },
  {
   "cell_type": "code",
   "execution_count": null,
   "id": "d14962da",
   "metadata": {},
   "outputs": [],
   "source": [
    "## Trianing my model\n",
    "from tensorflow.keras.callbacks import ModelCheckpoint\n",
    "from datetime import datetime \n",
    "\n",
    "num_epochs = 100\n",
    "num_batch_size = 32\n",
    "\n",
    "checkpointer = ModelCheckpoint(filepath='saved_models/audio_classification.hdf5', \n",
    "                               verbose=1, save_best_only=True)\n",
    "start = datetime.now()\n",
    "\n",
    "model.fit(X_train, y_train, batch_size=num_batch_size, epochs=num_epochs, validation_data=(X_test, y_test), callbacks=[checkpointer], verbose=1)\n",
    "\n",
    "\n",
    "duration = datetime.now() - start\n",
    "print(\"Training completed in time: \", duration)"
   ]
  },
  {
   "cell_type": "code",
   "execution_count": null,
   "id": "bab7df46",
   "metadata": {},
   "outputs": [],
   "source": [
    "train_accuracy=model.evaluate(X_train,y_train,verbose=0)\n",
    "test_accuracy=model.evaluate(X_test,y_test,verbose=0)\n",
    "print(train_accuracy[1])\n",
    "print(test_accuracy[1])\n",
    "#New Trill vectors\n",
    "#0.9394975900650024\n",
    "#0.808444082736969\n",
    "\n",
    "\n",
    "#Trill vectors\n",
    "#0.9453712105751038\n",
    "#0.8154506683349609\n",
    "\n",
    "\n",
    "#Xvectors\n",
    "#0.8511364459991455\n",
    "#0.7943815588951111"
   ]
  },
  {
   "cell_type": "code",
   "execution_count": null,
   "id": "c760690e",
   "metadata": {},
   "outputs": [],
   "source": [
    "###########CNN"
   ]
  },
  {
   "cell_type": "code",
   "execution_count": 7,
   "id": "65038f5f",
   "metadata": {},
   "outputs": [],
   "source": [
    "extracted_features_df['class_label']\n",
    "extracted_features_df['class_label'].replace({\"Medium\": 1, \"High\": 2,\"Low\":0}, inplace=True)"
   ]
  },
  {
   "cell_type": "code",
   "execution_count": 8,
   "id": "07f207bd",
   "metadata": {},
   "outputs": [],
   "source": [
    "import numpy as np\n",
    "### Split the dataset into independent and dependent dataset\n",
    "X=np.array(extracted_features_df['feature'].tolist())\n",
    "y=np.array(extracted_features_df['class_label'].tolist())"
   ]
  },
  {
   "cell_type": "code",
   "execution_count": 9,
   "id": "ff9f7916",
   "metadata": {},
   "outputs": [
    {
     "data": {
      "text/plain": [
       "(12789, 512)"
      ]
     },
     "execution_count": 9,
     "metadata": {},
     "output_type": "execute_result"
    }
   ],
   "source": [
    "X.shape\n"
   ]
  },
  {
   "cell_type": "code",
   "execution_count": 10,
   "id": "645c1935",
   "metadata": {},
   "outputs": [
    {
     "data": {
      "text/plain": [
       "(12789,)"
      ]
     },
     "execution_count": 10,
     "metadata": {},
     "output_type": "execute_result"
    }
   ],
   "source": [
    "y.shape"
   ]
  },
  {
   "cell_type": "code",
   "execution_count": 11,
   "id": "5ed5dac9",
   "metadata": {},
   "outputs": [],
   "source": [
    "from tensorflow.keras.utils import to_categorical\n",
    "from sklearn.preprocessing import LabelEncoder\n",
    "labelencoder=LabelEncoder()\n",
    "y=np.array(extracted_features_df['class_label'].tolist())\n",
    "y=to_categorical(labelencoder.fit_transform(y))"
   ]
  },
  {
   "cell_type": "code",
   "execution_count": 12,
   "id": "b5478931",
   "metadata": {},
   "outputs": [
    {
     "data": {
      "text/plain": [
       "(12789, 3)"
      ]
     },
     "execution_count": 12,
     "metadata": {},
     "output_type": "execute_result"
    }
   ],
   "source": [
    "y.shape"
   ]
  },
  {
   "cell_type": "code",
   "execution_count": 13,
   "id": "b160c951",
   "metadata": {},
   "outputs": [
    {
     "name": "stdout",
     "output_type": "stream",
     "text": [
      "(10231, 3) (2558, 3) (10231, 512, 1) (2558, 512, 1)\n"
     ]
    }
   ],
   "source": [
    "### Train Test Split\n",
    "num_classes = 3;\n",
    "\n",
    "from sklearn.model_selection import train_test_split\n",
    "X_train,X_test,y_train,y_test=train_test_split(X,y,test_size=0.2,random_state=0)\n",
    "\n",
    "X_train_cnn = X_train.reshape(X_train.shape[0], X_train.shape[1], 1)\n",
    "X_test_cnn = X_test.reshape(X_test.shape[0], X_test.shape[1], 1)\n",
    "Y_train_ann_cnn = y_train\n",
    "Y_test_ann_cnn = y_test\n",
    "\n",
    "print(Y_train_ann_cnn.shape,Y_test_ann_cnn.shape,X_train_cnn.shape,X_test_cnn.shape)\n"
   ]
  },
  {
   "cell_type": "code",
   "execution_count": 19,
   "id": "97f0325f",
   "metadata": {},
   "outputs": [],
   "source": [
    "from tensorflow.keras.layers import Convolution1D, Conv1D, MaxPooling1D, GlobalAveragePooling1D\n",
    "from tensorflow.keras.layers import Convolution1D, MaxPooling1D\n",
    "import numpy as np\n",
    "import pandas as pd\n",
    "from tensorflow.keras.utils import to_categorical\n",
    "from sklearn.preprocessing import LabelEncoder\n",
    "from sklearn.model_selection import train_test_split\n",
    "from tensorflow.keras.layers import Convolution1D, Conv1D, MaxPooling1D, GlobalAveragePooling1D\n",
    "from tensorflow.keras.layers import Convolution1D, MaxPooling1D\n",
    "from tensorflow.keras.callbacks import ModelCheckpoint\n",
    "from datetime import datetime \n",
    "from kerastuner import RandomSearch\n",
    "import keras_tuner\n",
    "from kerastuner.engine.hyperparameters import HyperParameters\n",
    "from tensorflow import keras\n",
    "import tensorflow as tf\n",
    "from tensorflow.keras.models import Sequential\n",
    "from tensorflow.keras.layers import Dense,Dropout,Activation,Flatten\n",
    "from tensorflow.keras.optimizers import Adam\n",
    "from sklearn import metrics"
   ]
  },
  {
   "cell_type": "code",
   "execution_count": 40,
   "id": "20f10bd4",
   "metadata": {},
   "outputs": [
    {
     "name": "stdout",
     "output_type": "stream",
     "text": [
      "Model: \"sequential_1\"\n",
      "_________________________________________________________________\n",
      "Layer (type)                 Output Shape              Param #   \n",
      "=================================================================\n",
      "conv1d_2 (Conv1D)            (None, 512, 16)           48        \n",
      "_________________________________________________________________\n",
      "max_pooling1d (MaxPooling1D) (None, 256, 16)           0         \n",
      "_________________________________________________________________\n",
      "dropout (Dropout)            (None, 256, 16)           0         \n",
      "_________________________________________________________________\n",
      "conv1d_3 (Conv1D)            (None, 256, 32)           1056      \n",
      "_________________________________________________________________\n",
      "max_pooling1d_1 (MaxPooling1 (None, 128, 32)           0         \n",
      "_________________________________________________________________\n",
      "dropout_1 (Dropout)          (None, 128, 32)           0         \n",
      "_________________________________________________________________\n",
      "flatten_1 (Flatten)          (None, 4096)              0         \n",
      "_________________________________________________________________\n",
      "dense_2 (Dense)              (None, 256)               1048832   \n",
      "_________________________________________________________________\n",
      "activation (Activation)      (None, 256)               0         \n",
      "_________________________________________________________________\n",
      "dropout_2 (Dropout)          (None, 256)               0         \n",
      "_________________________________________________________________\n",
      "dense_3 (Dense)              (None, 256)               65792     \n",
      "_________________________________________________________________\n",
      "activation_1 (Activation)    (None, 256)               0         \n",
      "_________________________________________________________________\n",
      "dropout_3 (Dropout)          (None, 256)               0         \n",
      "_________________________________________________________________\n",
      "dense_4 (Dense)              (None, 3)                 771       \n",
      "_________________________________________________________________\n",
      "activation_2 (Activation)    (None, 3)                 0         \n",
      "=================================================================\n",
      "Total params: 1,116,499\n",
      "Trainable params: 1,116,499\n",
      "Non-trainable params: 0\n",
      "_________________________________________________________________\n",
      "None\n"
     ]
    }
   ],
   "source": [
    "\n",
    "model = Sequential()\n",
    "model.add(Conv1D(filters=16, input_shape=X_train_cnn.shape[1:], kernel_size=2, activation='relu',padding='same'))\n",
    "model.add(MaxPooling1D(pool_size=2))\n",
    "model.add(Dropout(0.2))\n",
    "\n",
    "model.add(Conv1D(filters=32, kernel_size=2, activation='relu',padding='same'))\n",
    "model.add(MaxPooling1D(pool_size=2))\n",
    "model.add(Dropout(0.2))\n",
    "\n",
    "#model.add(Conv1D(filters=64, kernel_size=2, activation='relu',padding='same'))\n",
    "#model.add(MaxPooling1D(pool_size=2))\n",
    "#model.add(Dropout(0.2))\n",
    "\n",
    "#model.add(Conv1D(filters=128, kernel_size=2, activation='relu',padding='same'))\n",
    "#model.add(MaxPooling1D(pool_size=2))\n",
    "#model.add(Dropout(0.2))\n",
    "#model.add(GlobalAveragePooling2D())\n",
    "\n",
    "model.add(Flatten())\n",
    "\n",
    "model.add(Dense(256))\n",
    "model.add(Activation('relu'))\n",
    "model.add(Dropout(0.5))\n",
    "\n",
    "model.add(Dense(256))\n",
    "model.add(Activation('relu'))\n",
    "model.add(Dropout(0.5))\n",
    "\n",
    "model.add(Dense(num_classes))\n",
    "model.add(Activation('softmax'))\n",
    "\n",
    "\n",
    "\n",
    "print(model.summary())"
   ]
  },
  {
   "cell_type": "code",
   "execution_count": 41,
   "id": "3215721d",
   "metadata": {},
   "outputs": [],
   "source": [
    "model.compile(loss='categorical_crossentropy', optimizer='adam', metrics=['accuracy'])"
   ]
  },
  {
   "cell_type": "code",
   "execution_count": 42,
   "id": "5728b26e",
   "metadata": {},
   "outputs": [
    {
     "name": "stdout",
     "output_type": "stream",
     "text": [
      "Epoch 1/100\n",
      "320/320 [==============================] - 8s 24ms/step - loss: 0.9149 - accuracy: 0.5267 - val_loss: 0.5478 - val_accuracy: 0.7553\n",
      "\n",
      "Epoch 00001: val_loss improved from inf to 0.54781, saving model to saved_models\\audio_classification54.hdf5\n",
      "Epoch 2/100\n",
      "320/320 [==============================] - 7s 22ms/step - loss: 0.5882 - accuracy: 0.7361 - val_loss: 0.5189 - val_accuracy: 0.7694\n",
      "\n",
      "Epoch 00002: val_loss improved from 0.54781 to 0.51890, saving model to saved_models\\audio_classification54.hdf5\n",
      "Epoch 3/100\n",
      "320/320 [==============================] - 5s 16ms/step - loss: 0.5490 - accuracy: 0.7538 - val_loss: 0.4924 - val_accuracy: 0.7823\n",
      "\n",
      "Epoch 00003: val_loss improved from 0.51890 to 0.49235, saving model to saved_models\\audio_classification54.hdf5\n",
      "Epoch 4/100\n",
      "320/320 [==============================] - 4s 14ms/step - loss: 0.5348 - accuracy: 0.7601 - val_loss: 0.4891 - val_accuracy: 0.7834\n",
      "\n",
      "Epoch 00004: val_loss improved from 0.49235 to 0.48909, saving model to saved_models\\audio_classification54.hdf5\n",
      "Epoch 5/100\n",
      "320/320 [==============================] - 4s 14ms/step - loss: 0.5198 - accuracy: 0.7672 - val_loss: 0.4884 - val_accuracy: 0.7916\n",
      "\n",
      "Epoch 00005: val_loss improved from 0.48909 to 0.48845, saving model to saved_models\\audio_classification54.hdf5\n",
      "Epoch 6/100\n",
      "320/320 [==============================] - 5s 17ms/step - loss: 0.5089 - accuracy: 0.7732 - val_loss: 0.4776 - val_accuracy: 0.7901\n",
      "\n",
      "Epoch 00006: val_loss improved from 0.48845 to 0.47760, saving model to saved_models\\audio_classification54.hdf5\n",
      "Epoch 7/100\n",
      "320/320 [==============================] - 5s 17ms/step - loss: 0.5070 - accuracy: 0.7743 - val_loss: 0.4707 - val_accuracy: 0.7916\n",
      "\n",
      "Epoch 00007: val_loss improved from 0.47760 to 0.47074, saving model to saved_models\\audio_classification54.hdf5\n",
      "Epoch 8/100\n",
      "320/320 [==============================] - 5s 17ms/step - loss: 0.4883 - accuracy: 0.7823 - val_loss: 0.4756 - val_accuracy: 0.7885\n",
      "\n",
      "Epoch 00008: val_loss did not improve from 0.47074\n",
      "Epoch 9/100\n",
      "320/320 [==============================] - 5s 17ms/step - loss: 0.4659 - accuracy: 0.7947 - val_loss: 0.4928 - val_accuracy: 0.7862\n",
      "\n",
      "Epoch 00009: val_loss did not improve from 0.47074\n",
      "Epoch 10/100\n",
      "320/320 [==============================] - 5s 17ms/step - loss: 0.4620 - accuracy: 0.7963 - val_loss: 0.4722 - val_accuracy: 0.7952\n",
      "\n",
      "Epoch 00010: val_loss did not improve from 0.47074\n",
      "Epoch 11/100\n",
      "320/320 [==============================] - 5s 17ms/step - loss: 0.4554 - accuracy: 0.7967 - val_loss: 0.4572 - val_accuracy: 0.8034\n",
      "\n",
      "Epoch 00011: val_loss improved from 0.47074 to 0.45719, saving model to saved_models\\audio_classification54.hdf5\n",
      "Epoch 12/100\n",
      "320/320 [==============================] - 5s 17ms/step - loss: 0.4434 - accuracy: 0.8056 - val_loss: 0.4616 - val_accuracy: 0.7991\n",
      "\n",
      "Epoch 00012: val_loss did not improve from 0.45719\n",
      "Epoch 13/100\n",
      "320/320 [==============================] - 5s 17ms/step - loss: 0.4504 - accuracy: 0.8014 - val_loss: 0.4602 - val_accuracy: 0.8022\n",
      "\n",
      "Epoch 00013: val_loss did not improve from 0.45719\n",
      "Epoch 14/100\n",
      "320/320 [==============================] - 5s 17ms/step - loss: 0.4299 - accuracy: 0.8106 - val_loss: 0.4701 - val_accuracy: 0.8026\n",
      "\n",
      "Epoch 00014: val_loss did not improve from 0.45719\n",
      "Epoch 15/100\n",
      "320/320 [==============================] - 5s 17ms/step - loss: 0.4134 - accuracy: 0.8213 - val_loss: 0.4534 - val_accuracy: 0.7983\n",
      "\n",
      "Epoch 00015: val_loss improved from 0.45719 to 0.45341, saving model to saved_models\\audio_classification54.hdf5\n",
      "Epoch 16/100\n",
      "320/320 [==============================] - 5s 17ms/step - loss: 0.4040 - accuracy: 0.8187 - val_loss: 0.4621 - val_accuracy: 0.8026\n",
      "\n",
      "Epoch 00016: val_loss did not improve from 0.45341\n",
      "Epoch 17/100\n",
      "320/320 [==============================] - 5s 17ms/step - loss: 0.4036 - accuracy: 0.8250 - val_loss: 0.4509 - val_accuracy: 0.8026\n",
      "\n",
      "Epoch 00017: val_loss improved from 0.45341 to 0.45085, saving model to saved_models\\audio_classification54.hdf5\n",
      "Epoch 18/100\n",
      "320/320 [==============================] - 5s 17ms/step - loss: 0.4069 - accuracy: 0.8240 - val_loss: 0.4572 - val_accuracy: 0.8018\n",
      "\n",
      "Epoch 00018: val_loss did not improve from 0.45085\n",
      "Epoch 19/100\n",
      "320/320 [==============================] - 5s 17ms/step - loss: 0.3986 - accuracy: 0.8271 - val_loss: 0.4611 - val_accuracy: 0.8069\n",
      "\n",
      "Epoch 00019: val_loss did not improve from 0.45085\n",
      "Epoch 20/100\n",
      "320/320 [==============================] - 6s 18ms/step - loss: 0.3853 - accuracy: 0.8351 - val_loss: 0.4564 - val_accuracy: 0.8041\n",
      "\n",
      "Epoch 00020: val_loss did not improve from 0.45085\n",
      "Epoch 21/100\n",
      "320/320 [==============================] - 5s 17ms/step - loss: 0.3812 - accuracy: 0.8348 - val_loss: 0.4814 - val_accuracy: 0.8002\n",
      "\n",
      "Epoch 00021: val_loss did not improve from 0.45085\n",
      "Epoch 22/100\n",
      "320/320 [==============================] - 5s 17ms/step - loss: 0.3739 - accuracy: 0.8344 - val_loss: 0.4644 - val_accuracy: 0.7983\n",
      "\n",
      "Epoch 00022: val_loss did not improve from 0.45085\n",
      "Epoch 23/100\n",
      "320/320 [==============================] - 6s 17ms/step - loss: 0.3780 - accuracy: 0.8339 - val_loss: 0.4736 - val_accuracy: 0.8069\n",
      "\n",
      "Epoch 00023: val_loss did not improve from 0.45085\n",
      "Epoch 24/100\n",
      "320/320 [==============================] - 6s 17ms/step - loss: 0.3644 - accuracy: 0.8370 - val_loss: 0.4753 - val_accuracy: 0.8018\n",
      "\n",
      "Epoch 00024: val_loss did not improve from 0.45085\n",
      "Epoch 25/100\n",
      "320/320 [==============================] - 5s 17ms/step - loss: 0.3519 - accuracy: 0.8479 - val_loss: 0.4736 - val_accuracy: 0.8026\n",
      "\n",
      "Epoch 00025: val_loss did not improve from 0.45085\n",
      "Epoch 26/100\n",
      "320/320 [==============================] - 5s 17ms/step - loss: 0.3606 - accuracy: 0.8448 - val_loss: 0.4893 - val_accuracy: 0.7995\n",
      "\n",
      "Epoch 00026: val_loss did not improve from 0.45085\n",
      "Epoch 27/100\n",
      "320/320 [==============================] - 5s 17ms/step - loss: 0.3624 - accuracy: 0.8402 - val_loss: 0.4700 - val_accuracy: 0.7936\n",
      "\n",
      "Epoch 00027: val_loss did not improve from 0.45085\n",
      "Epoch 28/100\n",
      "320/320 [==============================] - 5s 17ms/step - loss: 0.3614 - accuracy: 0.8403 - val_loss: 0.4731 - val_accuracy: 0.7998\n",
      "\n",
      "Epoch 00028: val_loss did not improve from 0.45085\n",
      "Epoch 29/100\n",
      "320/320 [==============================] - 5s 17ms/step - loss: 0.3336 - accuracy: 0.8534 - val_loss: 0.4744 - val_accuracy: 0.8030\n",
      "\n",
      "Epoch 00029: val_loss did not improve from 0.45085\n",
      "Epoch 30/100\n",
      "320/320 [==============================] - 5s 17ms/step - loss: 0.3455 - accuracy: 0.8461 - val_loss: 0.4970 - val_accuracy: 0.8073\n",
      "\n",
      "Epoch 00030: val_loss did not improve from 0.45085\n",
      "Epoch 31/100\n",
      "320/320 [==============================] - 5s 17ms/step - loss: 0.3291 - accuracy: 0.8585 - val_loss: 0.4758 - val_accuracy: 0.8088\n",
      "\n",
      "Epoch 00031: val_loss did not improve from 0.45085\n",
      "Epoch 32/100\n",
      "320/320 [==============================] - 5s 17ms/step - loss: 0.3348 - accuracy: 0.8525 - val_loss: 0.5117 - val_accuracy: 0.8034\n",
      "\n",
      "Epoch 00032: val_loss did not improve from 0.45085\n",
      "Epoch 33/100\n",
      "320/320 [==============================] - 5s 17ms/step - loss: 0.3262 - accuracy: 0.8548 - val_loss: 0.4789 - val_accuracy: 0.8045\n",
      "\n",
      "Epoch 00033: val_loss did not improve from 0.45085\n",
      "Epoch 34/100\n",
      "320/320 [==============================] - 5s 17ms/step - loss: 0.3291 - accuracy: 0.8559 - val_loss: 0.5042 - val_accuracy: 0.8014\n",
      "\n",
      "Epoch 00034: val_loss did not improve from 0.45085\n",
      "Epoch 35/100\n",
      "320/320 [==============================] - 5s 17ms/step - loss: 0.3008 - accuracy: 0.8726 - val_loss: 0.4848 - val_accuracy: 0.8034\n",
      "\n",
      "Epoch 00035: val_loss did not improve from 0.45085\n",
      "Epoch 36/100\n",
      "320/320 [==============================] - 5s 17ms/step - loss: 0.3123 - accuracy: 0.8642 - val_loss: 0.5095 - val_accuracy: 0.8069\n",
      "\n",
      "Epoch 00036: val_loss did not improve from 0.45085\n",
      "Epoch 37/100\n",
      "320/320 [==============================] - 5s 17ms/step - loss: 0.3102 - accuracy: 0.8681 - val_loss: 0.5140 - val_accuracy: 0.7979\n",
      "\n",
      "Epoch 00037: val_loss did not improve from 0.45085\n",
      "Epoch 38/100\n",
      "320/320 [==============================] - 5s 17ms/step - loss: 0.3172 - accuracy: 0.8621 - val_loss: 0.4920 - val_accuracy: 0.8030\n",
      "\n",
      "Epoch 00038: val_loss did not improve from 0.45085\n",
      "Epoch 39/100\n",
      "320/320 [==============================] - 5s 17ms/step - loss: 0.2886 - accuracy: 0.8752 - val_loss: 0.5017 - val_accuracy: 0.8006\n"
     ]
    },
    {
     "name": "stdout",
     "output_type": "stream",
     "text": [
      "\n",
      "Epoch 00039: val_loss did not improve from 0.45085\n",
      "Epoch 40/100\n",
      "320/320 [==============================] - 5s 17ms/step - loss: 0.2915 - accuracy: 0.8736 - val_loss: 0.4881 - val_accuracy: 0.8069\n",
      "\n",
      "Epoch 00040: val_loss did not improve from 0.45085\n",
      "Epoch 41/100\n",
      "320/320 [==============================] - 5s 17ms/step - loss: 0.2814 - accuracy: 0.8833 - val_loss: 0.5060 - val_accuracy: 0.7932\n",
      "\n",
      "Epoch 00041: val_loss did not improve from 0.45085\n",
      "Epoch 42/100\n",
      "320/320 [==============================] - 6s 17ms/step - loss: 0.2881 - accuracy: 0.8770 - val_loss: 0.5028 - val_accuracy: 0.8069\n",
      "\n",
      "Epoch 00042: val_loss did not improve from 0.45085\n",
      "Epoch 43/100\n",
      "320/320 [==============================] - 5s 17ms/step - loss: 0.2985 - accuracy: 0.8694 - val_loss: 0.5221 - val_accuracy: 0.7979\n",
      "\n",
      "Epoch 00043: val_loss did not improve from 0.45085\n",
      "Epoch 44/100\n",
      "320/320 [==============================] - 5s 17ms/step - loss: 0.2934 - accuracy: 0.8737 - val_loss: 0.5274 - val_accuracy: 0.8061\n",
      "\n",
      "Epoch 00044: val_loss did not improve from 0.45085\n",
      "Epoch 45/100\n",
      "320/320 [==============================] - 5s 16ms/step - loss: 0.2749 - accuracy: 0.8788 - val_loss: 0.5194 - val_accuracy: 0.8049\n",
      "\n",
      "Epoch 00045: val_loss did not improve from 0.45085\n",
      "Epoch 46/100\n",
      "320/320 [==============================] - 5s 17ms/step - loss: 0.2640 - accuracy: 0.8876 - val_loss: 0.5418 - val_accuracy: 0.8018\n",
      "\n",
      "Epoch 00046: val_loss did not improve from 0.45085\n",
      "Epoch 47/100\n",
      "320/320 [==============================] - 5s 17ms/step - loss: 0.2847 - accuracy: 0.8767 - val_loss: 0.5245 - val_accuracy: 0.7998\n",
      "\n",
      "Epoch 00047: val_loss did not improve from 0.45085\n",
      "Epoch 48/100\n",
      "320/320 [==============================] - 5s 17ms/step - loss: 0.2722 - accuracy: 0.8790 - val_loss: 0.5321 - val_accuracy: 0.8014\n",
      "\n",
      "Epoch 00048: val_loss did not improve from 0.45085\n",
      "Epoch 49/100\n",
      "320/320 [==============================] - 5s 17ms/step - loss: 0.2704 - accuracy: 0.8848 - val_loss: 0.5507 - val_accuracy: 0.7940\n",
      "\n",
      "Epoch 00049: val_loss did not improve from 0.45085\n",
      "Epoch 50/100\n",
      "320/320 [==============================] - 5s 17ms/step - loss: 0.2719 - accuracy: 0.8861 - val_loss: 0.5570 - val_accuracy: 0.8034\n",
      "\n",
      "Epoch 00050: val_loss did not improve from 0.45085\n",
      "Epoch 51/100\n",
      "320/320 [==============================] - 6s 18ms/step - loss: 0.2697 - accuracy: 0.8867 - val_loss: 0.5392 - val_accuracy: 0.8065\n",
      "\n",
      "Epoch 00051: val_loss did not improve from 0.45085\n",
      "Epoch 52/100\n",
      "320/320 [==============================] - 6s 18ms/step - loss: 0.2713 - accuracy: 0.8831 - val_loss: 0.5435 - val_accuracy: 0.8014\n",
      "\n",
      "Epoch 00052: val_loss did not improve from 0.45085\n",
      "Epoch 53/100\n",
      "320/320 [==============================] - 6s 19ms/step - loss: 0.2613 - accuracy: 0.8840 - val_loss: 0.5558 - val_accuracy: 0.8120\n",
      "\n",
      "Epoch 00053: val_loss did not improve from 0.45085\n",
      "Epoch 54/100\n",
      "320/320 [==============================] - 5s 17ms/step - loss: 0.2628 - accuracy: 0.8820 - val_loss: 0.5368 - val_accuracy: 0.8073\n",
      "\n",
      "Epoch 00054: val_loss did not improve from 0.45085\n",
      "Epoch 55/100\n",
      "320/320 [==============================] - 5s 16ms/step - loss: 0.2690 - accuracy: 0.8869 - val_loss: 0.5550 - val_accuracy: 0.8061\n",
      "\n",
      "Epoch 00055: val_loss did not improve from 0.45085\n",
      "Epoch 56/100\n",
      "320/320 [==============================] - 5s 16ms/step - loss: 0.2422 - accuracy: 0.8957 - val_loss: 0.5675 - val_accuracy: 0.8006\n",
      "\n",
      "Epoch 00056: val_loss did not improve from 0.45085\n",
      "Epoch 57/100\n",
      "320/320 [==============================] - 5s 16ms/step - loss: 0.2446 - accuracy: 0.8955 - val_loss: 0.5290 - val_accuracy: 0.8010\n",
      "\n",
      "Epoch 00057: val_loss did not improve from 0.45085\n",
      "Epoch 58/100\n",
      "320/320 [==============================] - 5s 16ms/step - loss: 0.2392 - accuracy: 0.8940 - val_loss: 0.5293 - val_accuracy: 0.8022\n",
      "\n",
      "Epoch 00058: val_loss did not improve from 0.45085\n",
      "Epoch 59/100\n",
      "320/320 [==============================] - 5s 17ms/step - loss: 0.2468 - accuracy: 0.8899 - val_loss: 0.5479 - val_accuracy: 0.8073\n",
      "\n",
      "Epoch 00059: val_loss did not improve from 0.45085\n",
      "Epoch 60/100\n",
      "320/320 [==============================] - 5s 17ms/step - loss: 0.2352 - accuracy: 0.8977 - val_loss: 0.5679 - val_accuracy: 0.8069\n",
      "\n",
      "Epoch 00060: val_loss did not improve from 0.45085\n",
      "Epoch 61/100\n",
      "320/320 [==============================] - 5s 17ms/step - loss: 0.2335 - accuracy: 0.8988 - val_loss: 0.5679 - val_accuracy: 0.8041\n",
      "\n",
      "Epoch 00061: val_loss did not improve from 0.45085\n",
      "Epoch 62/100\n",
      "320/320 [==============================] - 5s 16ms/step - loss: 0.2279 - accuracy: 0.9026 - val_loss: 0.5728 - val_accuracy: 0.8022\n",
      "\n",
      "Epoch 00062: val_loss did not improve from 0.45085\n",
      "Epoch 63/100\n",
      "320/320 [==============================] - 5s 16ms/step - loss: 0.2221 - accuracy: 0.9059 - val_loss: 0.5610 - val_accuracy: 0.8108\n",
      "\n",
      "Epoch 00063: val_loss did not improve from 0.45085\n",
      "Epoch 64/100\n",
      "320/320 [==============================] - 5s 16ms/step - loss: 0.2507 - accuracy: 0.8902 - val_loss: 0.5858 - val_accuracy: 0.8061\n",
      "\n",
      "Epoch 00064: val_loss did not improve from 0.45085\n",
      "Epoch 65/100\n",
      "320/320 [==============================] - 5s 16ms/step - loss: 0.2375 - accuracy: 0.8936 - val_loss: 0.5649 - val_accuracy: 0.8030\n",
      "\n",
      "Epoch 00065: val_loss did not improve from 0.45085\n",
      "Epoch 66/100\n",
      "320/320 [==============================] - 5s 16ms/step - loss: 0.2363 - accuracy: 0.8953 - val_loss: 0.5798 - val_accuracy: 0.8049\n",
      "\n",
      "Epoch 00066: val_loss did not improve from 0.45085\n",
      "Epoch 67/100\n",
      "320/320 [==============================] - 5s 16ms/step - loss: 0.2208 - accuracy: 0.9070 - val_loss: 0.5877 - val_accuracy: 0.8030\n",
      "\n",
      "Epoch 00067: val_loss did not improve from 0.45085\n",
      "Epoch 68/100\n",
      "320/320 [==============================] - 5s 16ms/step - loss: 0.2034 - accuracy: 0.9131 - val_loss: 0.5674 - val_accuracy: 0.8022\n",
      "\n",
      "Epoch 00068: val_loss did not improve from 0.45085\n",
      "Epoch 69/100\n",
      "320/320 [==============================] - 5s 17ms/step - loss: 0.2213 - accuracy: 0.9007 - val_loss: 0.5969 - val_accuracy: 0.8022\n",
      "\n",
      "Epoch 00069: val_loss did not improve from 0.45085\n",
      "Epoch 70/100\n",
      "320/320 [==============================] - 5s 16ms/step - loss: 0.2234 - accuracy: 0.9036 - val_loss: 0.6215 - val_accuracy: 0.8057\n",
      "\n",
      "Epoch 00070: val_loss did not improve from 0.45085\n",
      "Epoch 71/100\n",
      "320/320 [==============================] - 5s 16ms/step - loss: 0.2195 - accuracy: 0.9002 - val_loss: 0.5719 - val_accuracy: 0.8104\n",
      "\n",
      "Epoch 00071: val_loss did not improve from 0.45085\n",
      "Epoch 72/100\n",
      "320/320 [==============================] - 5s 16ms/step - loss: 0.2045 - accuracy: 0.9110 - val_loss: 0.5793 - val_accuracy: 0.8088\n",
      "\n",
      "Epoch 00072: val_loss did not improve from 0.45085\n",
      "Epoch 73/100\n",
      "320/320 [==============================] - 5s 16ms/step - loss: 0.2200 - accuracy: 0.9018 - val_loss: 0.5848 - val_accuracy: 0.8073\n",
      "\n",
      "Epoch 00073: val_loss did not improve from 0.45085\n",
      "Epoch 74/100\n",
      "320/320 [==============================] - 5s 17ms/step - loss: 0.2034 - accuracy: 0.9083 - val_loss: 0.6405 - val_accuracy: 0.8104\n",
      "\n",
      "Epoch 00074: val_loss did not improve from 0.45085\n",
      "Epoch 75/100\n",
      "320/320 [==============================] - 5s 16ms/step - loss: 0.2084 - accuracy: 0.9069 - val_loss: 0.5849 - val_accuracy: 0.8006\n",
      "\n",
      "Epoch 00075: val_loss did not improve from 0.45085\n",
      "Epoch 76/100\n",
      "320/320 [==============================] - 5s 16ms/step - loss: 0.2045 - accuracy: 0.9128 - val_loss: 0.6123 - val_accuracy: 0.8026\n",
      "\n",
      "Epoch 00076: val_loss did not improve from 0.45085\n",
      "Epoch 77/100\n",
      "320/320 [==============================] - 5s 16ms/step - loss: 0.2064 - accuracy: 0.9125 - val_loss: 0.6066 - val_accuracy: 0.8014\n",
      "\n",
      "Epoch 00077: val_loss did not improve from 0.45085\n",
      "Epoch 78/100\n",
      "320/320 [==============================] - 5s 16ms/step - loss: 0.2180 - accuracy: 0.9095 - val_loss: 0.5865 - val_accuracy: 0.8061\n",
      "\n",
      "Epoch 00078: val_loss did not improve from 0.45085\n",
      "Epoch 79/100\n",
      "320/320 [==============================] - 5s 17ms/step - loss: 0.2045 - accuracy: 0.9130 - val_loss: 0.6059 - val_accuracy: 0.8030\n",
      "\n",
      "Epoch 00079: val_loss did not improve from 0.45085\n",
      "Epoch 80/100\n",
      "320/320 [==============================] - 5s 16ms/step - loss: 0.2019 - accuracy: 0.9153 - val_loss: 0.6151 - val_accuracy: 0.8014\n",
      "\n",
      "Epoch 00080: val_loss did not improve from 0.45085\n",
      "Epoch 81/100\n"
     ]
    },
    {
     "name": "stdout",
     "output_type": "stream",
     "text": [
      "320/320 [==============================] - 5s 16ms/step - loss: 0.2007 - accuracy: 0.9193 - val_loss: 0.6084 - val_accuracy: 0.8018\n",
      "\n",
      "Epoch 00081: val_loss did not improve from 0.45085\n",
      "Epoch 82/100\n",
      "320/320 [==============================] - 5s 16ms/step - loss: 0.2018 - accuracy: 0.9101 - val_loss: 0.6038 - val_accuracy: 0.7983\n",
      "\n",
      "Epoch 00082: val_loss did not improve from 0.45085\n",
      "Epoch 83/100\n",
      "320/320 [==============================] - 5s 16ms/step - loss: 0.2015 - accuracy: 0.9122 - val_loss: 0.5788 - val_accuracy: 0.7975\n",
      "\n",
      "Epoch 00083: val_loss did not improve from 0.45085\n",
      "Epoch 84/100\n",
      "320/320 [==============================] - 5s 17ms/step - loss: 0.1980 - accuracy: 0.9181 - val_loss: 0.6400 - val_accuracy: 0.7995\n",
      "\n",
      "Epoch 00084: val_loss did not improve from 0.45085\n",
      "Epoch 85/100\n",
      "320/320 [==============================] - 5s 16ms/step - loss: 0.1923 - accuracy: 0.9171 - val_loss: 0.5990 - val_accuracy: 0.8026\n",
      "\n",
      "Epoch 00085: val_loss did not improve from 0.45085\n",
      "Epoch 86/100\n",
      "320/320 [==============================] - 5s 16ms/step - loss: 0.1877 - accuracy: 0.9193 - val_loss: 0.6257 - val_accuracy: 0.8088\n",
      "\n",
      "Epoch 00086: val_loss did not improve from 0.45085\n",
      "Epoch 87/100\n",
      "320/320 [==============================] - 5s 17ms/step - loss: 0.2019 - accuracy: 0.9148 - val_loss: 0.5997 - val_accuracy: 0.8022\n",
      "\n",
      "Epoch 00087: val_loss did not improve from 0.45085\n",
      "Epoch 88/100\n",
      "320/320 [==============================] - 5s 16ms/step - loss: 0.1876 - accuracy: 0.9200 - val_loss: 0.5918 - val_accuracy: 0.8065\n",
      "\n",
      "Epoch 00088: val_loss did not improve from 0.45085\n",
      "Epoch 89/100\n",
      "320/320 [==============================] - 5s 16ms/step - loss: 0.1925 - accuracy: 0.9179 - val_loss: 0.6193 - val_accuracy: 0.8030\n",
      "\n",
      "Epoch 00089: val_loss did not improve from 0.45085\n",
      "Epoch 90/100\n",
      "320/320 [==============================] - 5s 16ms/step - loss: 0.1985 - accuracy: 0.9176 - val_loss: 0.5941 - val_accuracy: 0.8014\n",
      "\n",
      "Epoch 00090: val_loss did not improve from 0.45085\n",
      "Epoch 91/100\n",
      "320/320 [==============================] - 5s 17ms/step - loss: 0.1985 - accuracy: 0.9181 - val_loss: 0.6064 - val_accuracy: 0.8077\n",
      "\n",
      "Epoch 00091: val_loss did not improve from 0.45085\n",
      "Epoch 92/100\n",
      "320/320 [==============================] - 5s 17ms/step - loss: 0.1845 - accuracy: 0.9231 - val_loss: 0.6293 - val_accuracy: 0.8018\n",
      "\n",
      "Epoch 00092: val_loss did not improve from 0.45085\n",
      "Epoch 93/100\n",
      "320/320 [==============================] - 5s 17ms/step - loss: 0.1763 - accuracy: 0.9241 - val_loss: 0.6597 - val_accuracy: 0.8014\n",
      "\n",
      "Epoch 00093: val_loss did not improve from 0.45085\n",
      "Epoch 94/100\n",
      "320/320 [==============================] - 5s 17ms/step - loss: 0.1885 - accuracy: 0.9170 - val_loss: 0.6522 - val_accuracy: 0.7983\n",
      "\n",
      "Epoch 00094: val_loss did not improve from 0.45085\n",
      "Epoch 95/100\n",
      "320/320 [==============================] - 5s 17ms/step - loss: 0.1830 - accuracy: 0.9194 - val_loss: 0.6571 - val_accuracy: 0.7909\n",
      "\n",
      "Epoch 00095: val_loss did not improve from 0.45085\n",
      "Epoch 96/100\n",
      "320/320 [==============================] - 5s 17ms/step - loss: 0.1800 - accuracy: 0.9266 - val_loss: 0.6553 - val_accuracy: 0.8061\n",
      "\n",
      "Epoch 00096: val_loss did not improve from 0.45085\n",
      "Epoch 97/100\n",
      "320/320 [==============================] - 5s 16ms/step - loss: 0.1654 - accuracy: 0.9314 - val_loss: 0.6790 - val_accuracy: 0.8002\n",
      "\n",
      "Epoch 00097: val_loss did not improve from 0.45085\n",
      "Epoch 98/100\n",
      "320/320 [==============================] - 5s 16ms/step - loss: 0.1632 - accuracy: 0.9276 - val_loss: 0.6185 - val_accuracy: 0.8069\n",
      "\n",
      "Epoch 00098: val_loss did not improve from 0.45085\n",
      "Epoch 99/100\n",
      "320/320 [==============================] - 5s 16ms/step - loss: 0.1864 - accuracy: 0.9204 - val_loss: 0.6409 - val_accuracy: 0.8010\n",
      "\n",
      "Epoch 00099: val_loss did not improve from 0.45085\n",
      "Epoch 100/100\n",
      "320/320 [==============================] - 5s 17ms/step - loss: 0.1807 - accuracy: 0.9213 - val_loss: 0.6414 - val_accuracy: 0.8010\n",
      "\n",
      "Epoch 00100: val_loss did not improve from 0.45085\n",
      "Training completed in time:  0:08:57.291047\n"
     ]
    }
   ],
   "source": [
    "from tensorflow.keras.callbacks import ModelCheckpoint\n",
    "from datetime import datetime \n",
    "\n",
    "num_epochs = 100\n",
    "num_batch_size = 32\n",
    "\n",
    "checkpointer = ModelCheckpoint(filepath='saved_models/audio_classification54.hdf5', \n",
    "                               verbose=1, save_best_only=True)\n",
    "start = datetime.now()\n",
    "\n",
    "model.fit(X_train_cnn, Y_train_ann_cnn, batch_size=num_batch_size, epochs=num_epochs, \n",
    "                   validation_data=(X_test_cnn, Y_test_ann_cnn), callbacks=[checkpointer], verbose=1)\n",
    "\n",
    "duration = datetime.now() - start\n",
    "print(\"Training completed in time: \", duration)\n",
    "\n",
    "#94\n",
    "#80\n"
   ]
  },
  {
   "cell_type": "code",
   "execution_count": null,
   "id": "4aac3c8e",
   "metadata": {},
   "outputs": [],
   "source": [
    "train_accuracy=model.evaluate(X_train_cnn,Y_train_ann_cnn,verbose=0)\n",
    "test_accuracy=model.evaluate(X_test_cnn,Y_test_ann_cnn,verbose=0)\n",
    "print(train_accuracy[1])\n",
    "print(test_accuracy[1])\n",
    "\n",
    "#XVectors\n",
    "#94\n",
    "#80\n",
    "\n",
    "#Trill vectors\n",
    "#0.959516167640686\n",
    "#0.8185719847679138"
   ]
  },
  {
   "cell_type": "code",
   "execution_count": null,
   "id": "55640155",
   "metadata": {},
   "outputs": [],
   "source": []
  },
  {
   "cell_type": "code",
   "execution_count": 23,
   "id": "da4e2117",
   "metadata": {},
   "outputs": [],
   "source": [
    "from kerastuner import RandomSearch\n",
    "import keras_tuner\n",
    "from kerastuner.engine.hyperparameters import HyperParameters\n",
    "from tensorflow import keras"
   ]
  },
  {
   "cell_type": "code",
   "execution_count": 24,
   "id": "60d73988",
   "metadata": {},
   "outputs": [],
   "source": [
    "def build_model(hp):  \n",
    "  model = keras.Sequential([\n",
    "    keras.layers.Conv1D(\n",
    "        filters=hp.Int('conv_1_filter', min_value=32, max_value=128, step=16),\n",
    "        kernel_size=hp.Choice('conv_1_kernel', values = [2,5]),\n",
    "        activation='relu',\n",
    "        input_shape=X_train_cnn.shape[1:]\n",
    "    ),\n",
    "    keras.layers.Conv1D(\n",
    "        filters=hp.Int('conv_2_filter', min_value=32, max_value=64, step=16),\n",
    "        kernel_size=hp.Choice('conv_2_kernel', values = [2,5]),\n",
    "        activation='relu'\n",
    "    ),\n",
    "\n",
    "    keras.layers.Flatten(),\n",
    "    keras.layers.Dense(\n",
    "        units=hp.Int('dense_1_units', min_value=32, max_value=256, step=16),\n",
    "        activation='relu'\n",
    "    ),\n",
    "    keras.layers.Dense(num_classes, activation='softmax')\n",
    "  ])\n",
    "  \n",
    "  model.compile(optimizer=keras.optimizers.Adam(hp.Choice('learning_rate', values=[1e-2, 1e-3])),\n",
    "              loss='categorical_crossentropy',\n",
    "              metrics=['accuracy'])\n",
    "  \n",
    "  return model"
   ]
  },
  {
   "cell_type": "code",
   "execution_count": 25,
   "id": "7c364102",
   "metadata": {},
   "outputs": [],
   "source": [
    "tuner_search=RandomSearch(build_model,\n",
    "                          objective='val_accuracy',\n",
    "                          max_trials=5,directory='output',project_name=\"Stress_clasification_mfcc12\")"
   ]
  },
  {
   "cell_type": "code",
   "execution_count": 26,
   "id": "070268e8",
   "metadata": {},
   "outputs": [
    {
     "name": "stdout",
     "output_type": "stream",
     "text": [
      "Trial 5 Complete [00h 00m 31s]\n",
      "val_accuracy: 0.34636053442955017\n",
      "\n",
      "Best val_accuracy So Far: 0.7914020419120789\n",
      "Total elapsed time: 00h 02m 53s\n",
      "INFO:tensorflow:Oracle triggered exit\n"
     ]
    }
   ],
   "source": [
    "tuner_search.search(X_train_cnn, Y_train_ann_cnn, epochs=3,validation_split=0.2)"
   ]
  },
  {
   "cell_type": "code",
   "execution_count": 27,
   "id": "b44c9043",
   "metadata": {},
   "outputs": [],
   "source": [
    "model=tuner_search.get_best_models(num_models=1)[0]"
   ]
  },
  {
   "cell_type": "code",
   "execution_count": 28,
   "id": "23b6f975",
   "metadata": {},
   "outputs": [
    {
     "name": "stdout",
     "output_type": "stream",
     "text": [
      "Model: \"sequential\"\n",
      "_________________________________________________________________\n",
      "Layer (type)                 Output Shape              Param #   \n",
      "=================================================================\n",
      "conv1d (Conv1D)              (None, 511, 64)           192       \n",
      "_________________________________________________________________\n",
      "conv1d_1 (Conv1D)            (None, 510, 48)           6192      \n",
      "_________________________________________________________________\n",
      "flatten (Flatten)            (None, 24480)             0         \n",
      "_________________________________________________________________\n",
      "dense (Dense)                (None, 208)               5092048   \n",
      "_________________________________________________________________\n",
      "dense_1 (Dense)              (None, 3)                 627       \n",
      "=================================================================\n",
      "Total params: 5,099,059\n",
      "Trainable params: 5,099,059\n",
      "Non-trainable params: 0\n",
      "_________________________________________________________________\n"
     ]
    }
   ],
   "source": [
    "model.summary()"
   ]
  },
  {
   "cell_type": "code",
   "execution_count": 31,
   "id": "35140c5f",
   "metadata": {},
   "outputs": [
    {
     "name": "stdout",
     "output_type": "stream",
     "text": [
      "Epoch 11/20\n",
      "288/288 [==============================] - 13s 44ms/step - loss: 0.2420 - accuracy: 0.8994 - val_loss: 0.5714 - val_accuracy: 0.7881\n",
      "Epoch 12/20\n",
      "288/288 [==============================] - 12s 43ms/step - loss: 0.2043 - accuracy: 0.9167 - val_loss: 0.5532 - val_accuracy: 0.8037\n",
      "Epoch 13/20\n",
      "288/288 [==============================] - 12s 43ms/step - loss: 0.1865 - accuracy: 0.9241 - val_loss: 0.6214 - val_accuracy: 0.8125\n",
      "Epoch 14/20\n",
      "288/288 [==============================] - 13s 44ms/step - loss: 0.1546 - accuracy: 0.9383 - val_loss: 0.7025 - val_accuracy: 0.7920\n",
      "Epoch 15/20\n",
      "288/288 [==============================] - 13s 45ms/step - loss: 0.1212 - accuracy: 0.9521 - val_loss: 0.7329 - val_accuracy: 0.7900\n",
      "Epoch 16/20\n",
      "288/288 [==============================] - 13s 44ms/step - loss: 0.1069 - accuracy: 0.9607 - val_loss: 0.8279 - val_accuracy: 0.7881\n",
      "Epoch 17/20\n",
      "288/288 [==============================] - 12s 43ms/step - loss: 0.0839 - accuracy: 0.9679 - val_loss: 0.9508 - val_accuracy: 0.7969\n",
      "Epoch 18/20\n",
      "288/288 [==============================] - 12s 43ms/step - loss: 0.0700 - accuracy: 0.9737 - val_loss: 0.9841 - val_accuracy: 0.7881\n",
      "Epoch 19/20\n",
      "288/288 [==============================] - 12s 43ms/step - loss: 0.0790 - accuracy: 0.9709 - val_loss: 1.0227 - val_accuracy: 0.7920\n",
      "Epoch 20/20\n",
      "288/288 [==============================] - 12s 43ms/step - loss: 0.0427 - accuracy: 0.9845 - val_loss: 1.1791 - val_accuracy: 0.7822\n"
     ]
    },
    {
     "data": {
      "text/plain": [
       "<tensorflow.python.keras.callbacks.History at 0x246df532430>"
      ]
     },
     "execution_count": 31,
     "metadata": {},
     "output_type": "execute_result"
    }
   ],
   "source": [
    "model.fit(X_train_cnn, Y_train_ann_cnn, epochs=20, validation_split=0.1, initial_epoch=10)"
   ]
  },
  {
   "cell_type": "code",
   "execution_count": 32,
   "id": "60cd8912",
   "metadata": {},
   "outputs": [
    {
     "name": "stdout",
     "output_type": "stream",
     "text": [
      "0.9682338237762451\n",
      "0.7920250296592712\n"
     ]
    }
   ],
   "source": [
    "train_accuracy=model.evaluate(X_train_cnn,Y_train_ann_cnn,verbose=0)\n",
    "test_accuracy=model.evaluate(X_test_cnn,Y_test_ann_cnn,verbose=0)\n",
    "print(train_accuracy[1])\n",
    "print(test_accuracy[1])"
   ]
  },
  {
   "cell_type": "code",
   "execution_count": 33,
   "id": "0998146c",
   "metadata": {},
   "outputs": [
    {
     "name": "stdout",
     "output_type": "stream",
     "text": [
      "For Test Data: Full Classification Report \n",
      "[[774 120   0]\n",
      " [162 571 103]\n",
      " [  0 147 681]]\n",
      "              precision    recall  f1-score   support\n",
      "\n",
      "           0       0.83      0.87      0.85       894\n",
      "           1       0.68      0.68      0.68       836\n",
      "           2       0.87      0.82      0.84       828\n",
      "\n",
      "    accuracy                           0.79      2558\n",
      "   macro avg       0.79      0.79      0.79      2558\n",
      "weighted avg       0.79      0.79      0.79      2558\n",
      "\n"
     ]
    }
   ],
   "source": [
    "from sklearn.metrics import classification_report, confusion_matrix\n",
    "\n",
    "print(\"For Test Data: Full Classification Report \")\n",
    "Y_test = np.argmax(Y_test_ann_cnn, axis=1) # Convert one-hot to index\n",
    "y_pred = np.argmax(model.predict(X_test_cnn),axis=-1)\n",
    "matrix=confusion_matrix(Y_test,y_pred)\n",
    "print(matrix)\n",
    "print(classification_report(Y_test, y_pred))"
   ]
  },
  {
   "cell_type": "code",
   "execution_count": 36,
   "id": "407b0ae6",
   "metadata": {},
   "outputs": [
    {
     "name": "stdout",
     "output_type": "stream",
     "text": [
      "[[774 120   0]\n",
      " [162 571 103]\n",
      " [  0 147 681]]\n"
     ]
    },
    {
     "name": "stderr",
     "output_type": "stream",
     "text": [
      "<ipython-input-36-ffca020ff658>:11: UserWarning: FixedFormatter should only be used together with FixedLocator\n",
      "  ax.set_xticklabels([''] + labels)\n",
      "<ipython-input-36-ffca020ff658>:12: UserWarning: FixedFormatter should only be used together with FixedLocator\n",
      "  ax.set_yticklabels([''] + labels)\n"
     ]
    },
    {
     "data": {
      "image/png": "[encoded data removed]",
      "text/plain": [
       "<Figure size 432x288 with 2 Axes>"
      ]
     },
     "metadata": {
      "needs_background": "light"
     },
     "output_type": "display_data"
    }
   ],
   "source": [
    "from sklearn.metrics import confusion_matrix\n",
    "import matplotlib.pyplot as plt\n",
    "cm = confusion_matrix(Y_test,y_pred)\n",
    "print(cm)\n",
    "fig = plt.figure()\n",
    "ax = fig.add_subplot(111)\n",
    "cax = ax.matshow(cm)\n",
    "plt.title('Confusion matrix of the classifier')\n",
    "fig.colorbar(cax)\n",
    "labels=['High','Medium','Low',]\n",
    "ax.set_xticklabels([''] + labels)\n",
    "ax.set_yticklabels([''] + labels)\n",
    "plt.xlabel('Predicted')\n",
    "plt.ylabel('True')\n",
    "plt.show()\n",
    "\n",
    "#New values\n",
    "#0.9054\n",
    "#0.8164\n",
    "#Xvectors\n",
    "#0.9515169262886047\n",
    "#0.8010144233703613\n",
    "\n",
    "#Trill vectors\n",
    "#0.914544939994812\n",
    "#0.8220834732055664"
   ]
  },
  {
   "cell_type": "code",
   "execution_count": 37,
   "id": "aabcc28c",
   "metadata": {},
   "outputs": [],
   "source": [
    "import numpy as np\n",
    "\n",
    "\n",
    "def plot_confusion_matrix(cm,\n",
    "                          target_names,\n",
    "                          title='Confusion matrix',\n",
    "                          cmap=None,\n",
    "                          normalize=True):\n",
    "    \"\"\"\n",
    "    given a sklearn confusion matrix (cm), make a nice plot\n",
    "\n",
    "    Arguments\n",
    "    ---------\n",
    "    cm:           confusion matrix from sklearn.metrics.confusion_matrix\n",
    "\n",
    "    target_names: given classification classes such as [0, 1, 2]\n",
    "                  the class names, for example: ['high', 'medium', 'low']\n",
    "\n",
    "    title:        the text to display at the top of the matrix\n",
    "\n",
    "    cmap:         the gradient of the values displayed from matplotlib.pyplot.cm\n",
    "                  see http://matplotlib.org/examples/color/colormaps_reference.html\n",
    "                  plt.get_cmap('jet') or plt.cm.Blues\n",
    "\n",
    "    normalize:    If False, plot the raw numbers\n",
    "                  If True, plot the proportions\n",
    "\n",
    "    Usage\n",
    "    -----\n",
    "    plot_confusion_matrix(cm           = cm,                  # confusion matrix created by\n",
    "                                                              # sklearn.metrics.confusion_matrix\n",
    "                          normalize    = True,                # show proportions\n",
    "                          target_names = y_labels_vals,       # list of names of the classes\n",
    "                          title        = best_estimator_name) # title of graph\n",
    "\n",
    "    Citiation\n",
    "    ---------\n",
    "    http://scikit-learn.org/stable/auto_examples/model_selection/plot_confusion_matrix.html\n",
    "\n",
    "    \"\"\"\n",
    "    import matplotlib.pyplot as plt\n",
    "    import numpy as np\n",
    "    import itertools\n",
    "\n",
    "    accuracy = np.trace(cm) / float(np.sum(cm))\n",
    "    misclass = 1 - accuracy\n",
    "\n",
    "    if cmap is None:\n",
    "        cmap = plt.get_cmap('Blues')\n",
    "\n",
    "    plt.figure(figsize=(8, 6))\n",
    "    plt.imshow(cm, interpolation='nearest', cmap=cmap)\n",
    "    plt.title(title)\n",
    "    plt.colorbar()\n",
    "\n",
    "    if target_names is not None:\n",
    "        tick_marks = np.arange(len(target_names))\n",
    "        plt.xticks(tick_marks, target_names, rotation=45)\n",
    "        plt.yticks(tick_marks, target_names)\n",
    "\n",
    "    if normalize:\n",
    "        cm = cm.astype('float') / cm.sum(axis=1)[:, np.newaxis]\n",
    "\n",
    "\n",
    "    thresh = cm.max() / 1.5 if normalize else cm.max() / 2\n",
    "    for i, j in itertools.product(range(cm.shape[0]), range(cm.shape[1])):\n",
    "        if normalize:\n",
    "            plt.text(j, i, \"{:0.4f}\".format(cm[i, j]),\n",
    "                     horizontalalignment=\"center\",\n",
    "                     color=\"white\" if cm[i, j] > thresh else \"black\")\n",
    "        else:\n",
    "            plt.text(j, i, \"{:,}\".format(cm[i, j]),\n",
    "                     horizontalalignment=\"center\",\n",
    "                     color=\"white\" if cm[i, j] > thresh else \"black\")\n",
    "\n",
    "\n",
    "    plt.tight_layout()\n",
    "    plt.ylabel('True label')\n",
    "    plt.xlabel('Predicted label\\naccuracy={:0.4f}; misclass={:0.4f}'.format(accuracy, misclass))\n",
    "    plt.show()"
   ]
  },
  {
   "cell_type": "code",
   "execution_count": 43,
   "id": "61190841",
   "metadata": {},
   "outputs": [
    {
     "data": {
      "image/png": "[encoded data removed]",
      "text/plain": [
       "<Figure size 576x432 with 2 Axes>"
      ]
     },
     "metadata": {
      "needs_background": "light"
     },
     "output_type": "display_data"
    }
   ],
   "source": [
    "plot_confusion_matrix(cm           = np.array([[774, 120,   0],\n",
    "                                                 [119, 571, 90],\n",
    "                                                 [0, 120, 681]]), \n",
    "                      normalize    = False,\n",
    "                      target_names = ['low', 'medium', 'high'],\n",
    "                      title        = \"Confusion Matrix\")"
   ]
  },
  {
   "cell_type": "code",
   "execution_count": null,
   "id": "deeeae30",
   "metadata": {},
   "outputs": [],
   "source": []
  }
 ],
 "metadata": {
  "kernelspec": {
   "display_name": "Python 3",
   "language": "python",
   "name": "python3"
  },
  "language_info": {
   "codemirror_mode": {
    "name": "ipython",
    "version": 3
   },
   "file_extension": ".py",
   "mimetype": "text/x-python",
   "name": "python",
   "nbconvert_exporter": "python",
   "pygments_lexer": "ipython3",
   "version": "3.8.8"
  }
 },
 "nbformat": 4,
 "nbformat_minor": 5
}
